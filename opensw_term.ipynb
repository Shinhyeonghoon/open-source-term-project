{
  "nbformat": 4,
  "nbformat_minor": 0,
  "metadata": {
    "colab": {
      "provenance": []
    },
    "kernelspec": {
      "name": "python3",
      "display_name": "Python 3"
    },
    "language_info": {
      "name": "python"
    }
  },
  "cells": [
    {
      "cell_type": "code",
      "source": [
        "from google.colab import drive\n",
        "drive.mount('/content/drive')"
      ],
      "metadata": {
        "id": "Kq5pAyhy7zCU"
      },
      "execution_count": null,
      "outputs": []
    },
    {
      "cell_type": "code",
      "source": [
        "cd \"/content/drive/MyDrive/opensw-term\""
      ],
      "metadata": {
        "id": "dC5wiYzw77JE"
      },
      "execution_count": null,
      "outputs": []
    },
    {
      "cell_type": "code",
      "source": [
        "!git clone https://github.com/rokgyu/open-source-term-project"
      ],
      "metadata": {
        "id": "Cr0LhWcA8Bgk"
      },
      "execution_count": null,
      "outputs": []
    },
    {
      "cell_type": "code",
      "source": [
        "cd open-source-term-project/"
      ],
      "metadata": {
        "id": "IzNtGy2N8RZ-"
      },
      "execution_count": null,
      "outputs": []
    },
    {
      "cell_type": "code",
      "source": [
        "pip install transformers torch sacremoses"
      ],
      "metadata": {
        "id": "cYUwZhwR8yOA"
      },
      "execution_count": null,
      "outputs": []
    },
    {
      "cell_type": "code",
      "source": [
        "!python download_models.py"
      ],
      "metadata": {
        "id": "RC83A87l8jCv"
      },
      "execution_count": null,
      "outputs": []
    },
    {
      "cell_type": "code",
      "source": [
        "import ipywidgets as widgets\n",
        "from IPython.display import display, clear_output\n",
        "from translator import get_translations_ko_to_en, get_translations_en_to_ko\n",
        "from quality_evaluator import evaluate_quality\n",
        "import time\n",
        "\n",
        "# 모델 리스트\n",
        "models = ['Helsinki-NLP', 'M2M100', 'NLLB']\n",
        "\n",
        "# 번역 방향 선택 드롭다운\n",
        "direction_dropdown = widgets.Dropdown(\n",
        "    options=[('한국어 → 영어', 0), ('영어 → 한국어', 1)],\n",
        "    value=0,\n",
        "    description='번역 방향:',\n",
        ")\n",
        "\n",
        "# 텍스트 입력 위젯\n",
        "text_input = widgets.Text(\n",
        "    description='입력:',\n",
        "    placeholder='번역할 텍스트를 입력하세요.',\n",
        ")\n",
        "\n",
        "# 실행 버튼\n",
        "translate_button = widgets.Button(\n",
        "    description='번역 실행',\n",
        "    button_style='primary',  # 색상 스타일\n",
        "    tooltip='번역을 시작합니다.',\n",
        ")\n",
        "\n",
        "# 출력 위젯\n",
        "output_area = widgets.Output()\n",
        "\n",
        "# 버튼 클릭 이벤트 처리\n",
        "def on_translate_button_click(_):\n",
        "    with output_area:\n",
        "        clear_output()  # 이전 출력 내용 지우기\n",
        "        print(\"\\n번역이 진행 중입니다...\\n\")\n",
        "        time.sleep(1)  # 대기 효과\n",
        "\n",
        "        direction = direction_dropdown.value\n",
        "        input_text = text_input.value\n",
        "\n",
        "        if not input_text.strip():\n",
        "            print(\"입력 텍스트가 비어 있습니다. 다시 입력하세요.\")\n",
        "            return\n",
        "\n",
        "        try:\n",
        "            # 번역 실행\n",
        "            if direction == 0:  # 한국어 → 영어\n",
        "                translated_texts = get_translations_ko_to_en(input_text)\n",
        "            elif direction == 1:  # 영어 → 한국어\n",
        "                translated_texts = get_translations_en_to_ko(input_text)\n",
        "\n",
        "            # 품질 평가\n",
        "            scores = [evaluate_quality(text) for text in translated_texts]\n",
        "\n",
        "            # 결과 출력\n",
        "            print(\"\\n=== 번역 결과 및 품질 점수 ===\")\n",
        "            for i, (model, translation, score) in enumerate(zip(models, translated_texts, scores)):\n",
        "                print(f\"{i + 1}. {model}: {translation} (점수: {score})\")\n",
        "\n",
        "            # 최고 품질 문장 선택\n",
        "            best_index = scores.index(max(scores))\n",
        "            best_translation = translated_texts[best_index]\n",
        "\n",
        "            print(f\"\\n=== 최종 선택된 번역 ===\")\n",
        "            print(f\"{models[best_index]}: {best_translation} (점수: {max(scores)})\")\n",
        "\n",
        "        except Exception as e:\n",
        "            print(f\"오류 발생: {e}\")\n",
        "\n",
        "# 버튼 클릭 이벤트 연결\n",
        "translate_button.on_click(on_translate_button_click)\n",
        "\n",
        "# 전체 UI 표시\n",
        "display(widgets.VBox([direction_dropdown, text_input, translate_button, output_area]))\n"
      ],
      "metadata": {
        "id": "Bwi7QLUv8XvG"
      },
      "execution_count": null,
      "outputs": []
    }
  ]
}